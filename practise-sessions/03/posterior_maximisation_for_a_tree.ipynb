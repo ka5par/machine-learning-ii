{
 "cells": [
  {
   "attachments": {},
   "cell_type": "markdown",
   "metadata": {},
   "source": [
    "# Posterior maximisation for a tree\n",
    "\n",
    "Consider a tree with nodes $X_1,\\ldots, X_n$ and with some evidence. Then we can ask what is the assignment $x_1,\\ldots,x_n$ that maximises the posterior $\\Pr[x_1,\\ldots,x_n|\\text{evidence}]$ provided that the parameters of the tree are fixed.\n",
    "\n",
    "As a particular example we can consider a Hidden Markov model\n",
    "\n",
    "<img src = 'illustrations/hidden-markov-model.png' width=100%>\n"
   ]
  },
  {
   "cell_type": "markdown",
   "metadata": {},
   "source": [
    "## Illustrative example \n",
    "\n",
    "Let us maximize the probability $\\Pr[x_1,\\ldots, x_i|y_1,\\ldots,y_i]$. Our goal is to decompose the posterior into to independent parts. As the first step observe \n",
    "\n",
    "\\begin{align*}\n",
    "\\Pr[x_1,\\ldots, x_i|y_1,\\ldots,y_i] \n",
    "&= \\frac{\\Pr[x_1,\\ldots, x_{i}, y_i|y_1,\\ldots,y_{i-1}]}{\\Pr[y_i|y_1,\\ldots,y_{i-1}]} \\propto \\Pr[x_1,\\ldots, x_{i}, y_i|y_1,\\ldots,y_{i-1}]\\\\\n",
    "&=\\Pr[x_1,\\ldots, x_{i-1}|y_1,\\ldots,y_{i-1}]\\cdot \\Pr[x_i, y_i|x_1,\\ldots, x_{i-1},y_1,\\ldots,y_{i-1}]\n",
    "\\end{align*}\n",
    "\n",
    "where the last term decomposes further\n",
    "\n",
    "\\begin{align*}\n",
    "\\Pr[x_i, y_i|x_1,\\ldots, x_{i-1},y_1,\\ldots,y_{i-1}] &=\n",
    "\\Pr[x_i|x_1,\\ldots, x_{i-1},y_1,\\ldots,y_{i-1}]\\cdot \\Pr[y_i|x_i, x_1,\\ldots, x_{i-1},y_1,\\ldots,y_{i-1}]\n",
    "\\end{align*}\n",
    "\n",
    "To continue further we need to remove irrelevant knowledge form the probability expressions\n",
    "\n",
    "\\begin{align*}\n",
    "\\Pr[x_i&|x_1,\\ldots, x_{i-1},y_1,\\ldots,y_{i-1}] = \\Pr[x_i|x_1,\\ldots, x_{i-1}]\\\\\n",
    "\\Pr[y_i&|x_i, x_1,\\ldots, x_{i-1},y_1,\\ldots,y_{i-1}] = \\Pr[y_i|x_i]\n",
    "\\end{align*}\n",
    "\n",
    "As a result, we can express \n",
    "\n",
    "\\begin{align}\n",
    "\\Pr[x_1,\\ldots, x_i|y_1,\\ldots,y_i] = \\Pr[x_1,\\ldots, x_{i-1}|y_1,\\ldots,y_{i-1}] \\cdot \\Pr[x_i|x_1,\\ldots, x_{i-1}]\\cdot \\Pr[y_i|x_i]\n",
    "\\end{align}\n",
    "\n",
    "where the first term is recirsively the same optimisation task with fewer observations and the next two terms are things we can compute. \n",
    "Visually, we are left with the following maximisation task  \n",
    "\n",
    "<img src = 'illustrations/tree-max-i.png' width=100%>\n",
    "\n",
    "where the red part corresponds to optimal assignments with fixed end state $x_{i-1}$ and blue parts correspond to the second and the third term in the minimisation task.\n",
    "\n",
    "The oprimisation task becomes more obvious if we consider logarithm of the optimisation tasks.\n",
    "Then out goal is to find a tree that passes all nodes and has the minimal weight.\n"
   ]
  },
  {
   "cell_type": "markdown",
   "metadata": {},
   "source": []
  }
 ],
 "metadata": {
  "kernelspec": {
   "display_name": "Python 3",
   "language": "python",
   "name": "python3"
  },
  "language_info": {
   "codemirror_mode": {
    "name": "ipython",
    "version": 3
   },
   "file_extension": ".py",
   "mimetype": "text/x-python",
   "name": "python",
   "nbconvert_exporter": "python",
   "pygments_lexer": "ipython3",
   "version": "3.6.10"
  }
 },
 "nbformat": 4,
 "nbformat_minor": 4
}
