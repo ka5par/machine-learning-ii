{
 "cells": [
  {
   "cell_type": "markdown",
   "id": "28937840",
   "metadata": {},
   "source": [
    "# Relative performance evaluation\n",
    "\n",
    "In most cases the test set is small and thus the test error can fluctuate so much that we cannot detect whether one model is better than the other.\n",
    "Then there is clever trick to compare relative performance of different models. \n",
    "This measures the difference between model performance measures an is much more precise than the difference of absolute errors provided that we have large number of unlabelled data.\n",
    "On flip side, it requires manual evaluation of unseen data samples and thus cannot be automated. "
   ]
  },
  {
   "cell_type": "markdown",
   "id": "ba843801",
   "metadata": {},
   "source": [
    "## Set of differences\n",
    "\n",
    "Let $f_1$ and $f_2$ be classifiers which we want to compare and let $R$ be the risk (performance measure) which can be expressed as an expected loss over a random data point\n",
    "\n",
    "\\begin{align*}\n",
    "R(f)=\\mathbf{E}(L(y, f(\\boldsymbol{x})))\\enspace.\n",
    "\\end{align*}\n",
    "\n",
    "Then the empirical risk (an estimate of performance measure) is an average\n",
    "\n",
    "\\begin{align*}\n",
    "R_N(f)=\\frac{1}{N}\\cdot \\sum_{i=1}^{N} L(y_i, f(\\boldsymbol{x}_i)))\\enspace.\n",
    "\\end{align*}\n",
    "\n",
    "Consequently, we can estimate risk difference\n",
    "\n",
    "\\begin{align*}\n",
    "\\Delta R = R(f_1)-R(f_2)\n",
    "\\end{align*}\n",
    "\n",
    "through the differences of empirical risks\n",
    "\n",
    "\n",
    "\\begin{align*}\n",
    "\\Delta R_N = \\frac{1}{N}\\cdot \\sum_{i=1}^{N} L(y_i, f_1(\\boldsymbol{x}_i))-L(y_i, f_2(\\boldsymbol{x}_i))\\enspace.\n",
    "\\end{align*}\n",
    "\n",
    "Now it is evident that when $f_1(\\boldsymbol{x}_i) = f_2(\\boldsymbol{x}_i)$ then corresponding losses are the same and thus we need labels $y_i$ only for the set of differences \n",
    "\n",
    "\\begin{align*}\n",
    "\\mathcal{I_\\Delta}=\\{ i: f_1(\\boldsymbol{x}_i)\\neq f(\\boldsymbol{x}_i)\\}\\enspace.\n",
    "\\end{align*}\n",
    "\n",
    "In particular note that\n",
    "\n",
    "\n",
    "\\begin{align*}\n",
    "\\Delta R_N = \\frac{1}{N}\\cdot \\sum_{i\\in \\mathcal{I_\\Delta}} L(y_i, f_1(\\boldsymbol{x}_i))-L(y_i, f_2(\\boldsymbol{x}_i))= \\frac{|\\mathcal{I}_\\delta|}{N}\\cdot\\frac{1}{|\\mathcal{I}_\\delta|}\\cdot \\sum_{i\\in \\mathcal{I_\\Delta}} L(y_i, f_1(\\boldsymbol{x}_i))-L(y_i, f_2(\\boldsymbol{x}_i))\\enspace.\n",
    "\\end{align*}"
   ]
  },
  {
   "cell_type": "markdown",
   "id": "a4c6a77d",
   "metadata": {},
   "source": [
    "## Performance on the set of differences\n",
    "\n",
    "Let us now define the performance on the set of differences\n",
    "\n",
    "\\begin{align*}\n",
    "\\Delta R_{\\mathcal{I}_\\Delta} = \\frac{1}{|\\mathcal{I}_\\delta|}\\cdot \\sum_{i\\in \\mathcal{I_\\Delta}} L(y_i, f_1(\\boldsymbol{x}_i)))-L(y_i, f_2(\\boldsymbol{x}_i)))\\enspace.\n",
    "\\end{align*}\n",
    "\n",
    "and its relative size\n",
    "\n",
    "\\begin{align*}\n",
    "\\hat{p}_\\Delta=\\frac{|\\mathcal{I}_\\Delta|}{N}\n",
    "\\end{align*}\n",
    "\n",
    "Then the empirical risk difference can be expressed as\n",
    "\n",
    "\\begin{align*}\n",
    "\\Delta R_N= \\hat{p}_\\Delta\\cdot \\Delta R_{\\mathcal{I}_\\Delta}.\n",
    "\\end{align*}\n",
    "\n",
    "which implies\n",
    "\\begin{align*}\n",
    "|\\Delta R_N| = \\hat{p}_\\Delta\\cdot \\max |L(y, f(\\boldsymbol{x}))- L(y, f_2(\\boldsymbol{x}))|.\n",
    "\\end{align*}\n",
    "\n",
    "\n",
    "By labelling a small random subset $\\mathcal{I}$ of differences $\\mathcal{I}_\\Delta$ we can estimate  $\\Delta R_{\\mathcal{I}_\\Delta}$ without looking through the entire set of differences:\n",
    "\n",
    "\\begin{align*}\n",
    "\\hat{\\Delta} R_{\\mathcal{I}_\\Delta} = \\frac{1}{|\\mathcal{I}}\\cdot \\sum_{i\\in \\mathcal{I_\\Delta}} L(y_i, f_1(\\boldsymbol{x}_i)))-L(y_i, f_2(\\boldsymbol{x}_i)))\\enspace.\n",
    "\\end{align*}\n"
   ]
  },
  {
   "cell_type": "markdown",
   "id": "03aeb925",
   "metadata": {},
   "source": [
    "## Variance estimation through moment matching\n",
    "\n",
    "\n",
    "TBA"
   ]
  }
 ],
 "metadata": {
  "kernelspec": {
   "display_name": "Python 3 (ipykernel)",
   "language": "python",
   "name": "python3"
  },
  "language_info": {
   "codemirror_mode": {
    "name": "ipython",
    "version": 3
   },
   "file_extension": ".py",
   "mimetype": "text/x-python",
   "name": "python",
   "nbconvert_exporter": "python",
   "pygments_lexer": "ipython3",
   "version": "3.8.12"
  }
 },
 "nbformat": 4,
 "nbformat_minor": 5
}
