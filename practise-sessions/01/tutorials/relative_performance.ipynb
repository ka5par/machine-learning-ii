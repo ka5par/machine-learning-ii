{
 "cells": [
  {
   "cell_type": "markdown",
   "id": "ca2038df",
   "metadata": {},
   "source": [
    "## VI. Absolute vs relative performance\n",
    "\n",
    "In most cases the test set is small and thus the test error can fluctuate so much that we cannot detect whether one model is better than the other.\n",
    "Then there is clever trick to compare relative performance of different models. \n",
    "This measures the difference between model performance measures an is much more precise than the difference of absolute errors provided that we have large number of unlabelled data.\n",
    "On flip side, it requires manual evaluation of unseen data samples and thus cannot be automated. "
   ]
  },
  {
   "cell_type": "markdown",
   "id": "f0eef790",
   "metadata": {},
   "source": [
    "### Maximal performance difference\n",
    "\n",
    "If we consider the accuracy then the maximal possible difference between the models is the fraction of unlabelled samples $p$ on which the predictions differ. If a performance measure is additive and each datapoint can have a limited impact on the final score, the maximal difference between scores is proportional to $p$. Most measures satisfy this requirement. "
   ]
  },
  {
   "cell_type": "markdown",
   "id": "da27388b",
   "metadata": {},
   "source": [
    "### Random subset of differences\n",
    "\n",
    "By labelling a small random subset of differences we can reduce the maximal difference between models even further."
   ]
  },
  {
   "cell_type": "markdown",
   "id": "91568c91",
   "metadata": {},
   "source": [
    "### Random subset of relevant differences \n",
    "\n",
    "The data points on which the predictions differ but both predictions are wrong do not contribute to the accuracy score. So we must look only these differences on which exactly one model is correct. Let this set of relevant differences be denoted as $\\mathcal{B}$. Then we can estimate the differences on the accuracy on the set of $\\mathcal{B}$ and scale this advantage to the entire set of observations."
   ]
  }
 ],
 "metadata": {
  "kernelspec": {
   "display_name": "Python 3 (ipykernel)",
   "language": "python",
   "name": "python3"
  },
  "language_info": {
   "codemirror_mode": {
    "name": "ipython",
    "version": 3
   },
   "file_extension": ".py",
   "mimetype": "text/x-python",
   "name": "python",
   "nbconvert_exporter": "python",
   "pygments_lexer": "ipython3",
   "version": "3.8.12"
  }
 },
 "nbformat": 4,
 "nbformat_minor": 5
}
