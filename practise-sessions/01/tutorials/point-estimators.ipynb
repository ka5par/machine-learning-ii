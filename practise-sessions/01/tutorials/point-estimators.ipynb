{
 "cells": [
  {
   "cell_type": "markdown",
   "metadata": {},
   "source": [
    "# Point estimators\n",
    "\n",
    "* A point estimator is an algorithm or function that given a set of data points $\\boldsymbol{x}_1,\\ldots,\\boldsymbol{x}_n$ outputs a real value.\n",
    "* A good point estimator tries to approximate some characteristic of the data set and its value converges to the true value in the process $n\\to \\infty$\n",
    "\n",
    "## I. Theoretical formalisation\n",
    "* Let $\\mathcal{D}_{\\alpha_1,\\alpha_2,\\ldots,\\alpha_k}$ be a parametrised distribution that generates samples $\\boldsymbol{x}_i$. \n",
    "* Then we might want to infer what are the values of $\\alpha_1,\\alpha_2,\\ldots,\\alpha_k$ form obsereved data.\n",
    "* We can use point estimator $f_i$ for estimating the value of $\\alpha_i$.\n",
    "* As data generation is random process point estimator outcomes $\\hat{\\alpha}_1=f_i(\\boldsymbol{x}_1,\\ldots,\\boldsymbol{x}_n)$ are also random."
   ]
  },
  {
   "cell_type": "code",
   "execution_count": 1,
   "metadata": {},
   "outputs": [],
   "source": [
    "import numpy as np\n",
    "import pandas as pd\n",
    "\n",
    "from pandas import Series\n",
    "from pandas import DataFrame\n",
    "\n",
    "from plotnine import *\n",
    "\n",
    "# Local imports\n",
    "import sys\n",
    "sys.path.append('..')\n",
    "from convenience import *"
   ]
  },
  {
   "cell_type": "code",
   "execution_count": 2,
   "metadata": {},
   "outputs": [],
   "source": [
    "def data_sampler(n:int, mu:float=0,  sigma: float=1) -> Series:\n",
    "    \"\"\"\n",
    "    Data generator that generates n values form the normal distribution N(mu, sigma)\n",
    "    \"\"\"\n",
    "    \n",
    "    return Series(np.random.normal(loc=mu, scale=sigma, size = n))"
   ]
  },
  {
   "cell_type": "code",
   "execution_count": 3,
   "metadata": {},
   "outputs": [
    {
     "data": {
      "text/plain": [
       "0   -1.085483\n",
       "1    1.356777\n",
       "2    0.459962\n",
       "3    0.027891\n",
       "4    1.011408\n",
       "5   -0.965246\n",
       "6   -2.925626\n",
       "7   -0.162163\n",
       "8   -0.209576\n",
       "9    1.301709\n",
       "dtype: float64"
      ]
     },
     "execution_count": 3,
     "metadata": {},
     "output_type": "execute_result"
    }
   ],
   "source": [
    "data_sampler(10)"
   ]
  },
  {
   "cell_type": "markdown",
   "metadata": {},
   "source": [
    "For this particular data distribution there are parameters we can estimate $\\mu$ and $\\sigma$. \n",
    "Let us consider three point estimators for the $\\mu$ value"
   ]
  },
  {
   "cell_type": "code",
   "execution_count": 4,
   "metadata": {},
   "outputs": [],
   "source": [
    "def f0(x):\n",
    "    return 0\n",
    "\n",
    "def f1(x):\n",
    "    return np.mean(x)\n",
    "\n",
    "def f2(x):\n",
    "    return np.random.uniform(-1,1,1)"
   ]
  },
  {
   "cell_type": "markdown",
   "metadata": {},
   "source": [
    "Then the corresponding distributions of the point estimator values can be empirically measured."
   ]
  },
  {
   "cell_type": "code",
   "execution_count": 5,
   "metadata": {},
   "outputs": [
    {
     "data": {
      "text/html": [
       "<div>\n",
       "<style scoped>\n",
       "    .dataframe tbody tr th:only-of-type {\n",
       "        vertical-align: middle;\n",
       "    }\n",
       "\n",
       "    .dataframe tbody tr th {\n",
       "        vertical-align: top;\n",
       "    }\n",
       "\n",
       "    .dataframe thead th {\n",
       "        text-align: right;\n",
       "    }\n",
       "</style>\n",
       "<table border=\"1\" class=\"dataframe\">\n",
       "  <thead>\n",
       "    <tr style=\"text-align: right;\">\n",
       "      <th></th>\n",
       "      <th></th>\n",
       "      <th></th>\n",
       "      <th>value</th>\n",
       "    </tr>\n",
       "    <tr>\n",
       "      <th>sample_size</th>\n",
       "      <th>method</th>\n",
       "      <th>experiment</th>\n",
       "      <th></th>\n",
       "    </tr>\n",
       "  </thead>\n",
       "  <tbody>\n",
       "    <tr>\n",
       "      <th rowspan=\"5\" valign=\"top\">1</th>\n",
       "      <th rowspan=\"5\" valign=\"top\">f0</th>\n",
       "      <th>0</th>\n",
       "      <td>NaN</td>\n",
       "    </tr>\n",
       "    <tr>\n",
       "      <th>1</th>\n",
       "      <td>NaN</td>\n",
       "    </tr>\n",
       "    <tr>\n",
       "      <th>2</th>\n",
       "      <td>NaN</td>\n",
       "    </tr>\n",
       "    <tr>\n",
       "      <th>3</th>\n",
       "      <td>NaN</td>\n",
       "    </tr>\n",
       "    <tr>\n",
       "      <th>4</th>\n",
       "      <td>NaN</td>\n",
       "    </tr>\n",
       "  </tbody>\n",
       "</table>\n",
       "</div>"
      ],
      "text/plain": [
       "                               value\n",
       "sample_size method experiment       \n",
       "1           f0     0             NaN\n",
       "                   1             NaN\n",
       "                   2             NaN\n",
       "                   3             NaN\n",
       "                   4             NaN"
      ]
     },
     "execution_count": 5,
     "metadata": {},
     "output_type": "execute_result"
    }
   ],
   "source": [
    "k = 1000\n",
    "sample_size = [1, 10, 50, 100, 250, 500, 750, 1000] \n",
    "\n",
    "result = (combine_categories({'sample_size': sample_size, 'method': ['f0', 'f1', 'f2'], 'experiment': list(range(k))})\n",
    "         .assign(value = np.nan)\n",
    "         .set_index(['sample_size', 'method', 'experiment'])\n",
    "         .sort_index())\n",
    "head(result)"
   ]
  },
  {
   "cell_type": "code",
   "execution_count": 6,
   "metadata": {},
   "outputs": [
    {
     "data": {
      "application/vnd.jupyter.widget-view+json": {
       "model_id": "438f31c9de3444a393509710609b7e47",
       "version_major": 2,
       "version_minor": 0
      },
      "text/plain": [
       "Size: ___1:   0%|          | 0/1000 [00:00<?, ?it/s]"
      ]
     },
     "metadata": {},
     "output_type": "display_data"
    },
    {
     "data": {
      "application/vnd.jupyter.widget-view+json": {
       "model_id": "edb42f5bafdc416894fd795be7f13543",
       "version_major": 2,
       "version_minor": 0
      },
      "text/plain": [
       "Size: __10:   0%|          | 0/1000 [00:00<?, ?it/s]"
      ]
     },
     "metadata": {},
     "output_type": "display_data"
    },
    {
     "data": {
      "application/vnd.jupyter.widget-view+json": {
       "model_id": "203b77d8368949e98688f0f7dd99fbac",
       "version_major": 2,
       "version_minor": 0
      },
      "text/plain": [
       "Size: __50:   0%|          | 0/1000 [00:00<?, ?it/s]"
      ]
     },
     "metadata": {},
     "output_type": "display_data"
    },
    {
     "data": {
      "application/vnd.jupyter.widget-view+json": {
       "model_id": "670f67bad1824e6498295564061a32f1",
       "version_major": 2,
       "version_minor": 0
      },
      "text/plain": [
       "Size: _100:   0%|          | 0/1000 [00:00<?, ?it/s]"
      ]
     },
     "metadata": {},
     "output_type": "display_data"
    },
    {
     "data": {
      "application/vnd.jupyter.widget-view+json": {
       "model_id": "bad13365f6fe421788067fa3ad28947e",
       "version_major": 2,
       "version_minor": 0
      },
      "text/plain": [
       "Size: _250:   0%|          | 0/1000 [00:00<?, ?it/s]"
      ]
     },
     "metadata": {},
     "output_type": "display_data"
    },
    {
     "data": {
      "application/vnd.jupyter.widget-view+json": {
       "model_id": "55f5fc63e96a4ccda279a84abc6f3c86",
       "version_major": 2,
       "version_minor": 0
      },
      "text/plain": [
       "Size: _500:   0%|          | 0/1000 [00:00<?, ?it/s]"
      ]
     },
     "metadata": {},
     "output_type": "display_data"
    },
    {
     "data": {
      "application/vnd.jupyter.widget-view+json": {
       "model_id": "02ecf56717e546bda7b715c8286f2f5d",
       "version_major": 2,
       "version_minor": 0
      },
      "text/plain": [
       "Size: _750:   0%|          | 0/1000 [00:00<?, ?it/s]"
      ]
     },
     "metadata": {},
     "output_type": "display_data"
    },
    {
     "data": {
      "application/vnd.jupyter.widget-view+json": {
       "model_id": "ffd12290c56f4fda87827aef3581eeeb",
       "version_major": 2,
       "version_minor": 0
      },
      "text/plain": [
       "Size: 1000:   0%|          | 0/1000 [00:00<?, ?it/s]"
      ]
     },
     "metadata": {},
     "output_type": "display_data"
    },
    {
     "data": {
      "text/html": [
       "<div>\n",
       "<style scoped>\n",
       "    .dataframe tbody tr th:only-of-type {\n",
       "        vertical-align: middle;\n",
       "    }\n",
       "\n",
       "    .dataframe tbody tr th {\n",
       "        vertical-align: top;\n",
       "    }\n",
       "\n",
       "    .dataframe thead th {\n",
       "        text-align: right;\n",
       "    }\n",
       "</style>\n",
       "<table border=\"1\" class=\"dataframe\">\n",
       "  <thead>\n",
       "    <tr style=\"text-align: right;\">\n",
       "      <th></th>\n",
       "      <th></th>\n",
       "      <th></th>\n",
       "      <th>value</th>\n",
       "    </tr>\n",
       "    <tr>\n",
       "      <th>sample_size</th>\n",
       "      <th>method</th>\n",
       "      <th>experiment</th>\n",
       "      <th></th>\n",
       "    </tr>\n",
       "  </thead>\n",
       "  <tbody>\n",
       "    <tr>\n",
       "      <th rowspan=\"5\" valign=\"top\">1000</th>\n",
       "      <th rowspan=\"5\" valign=\"top\">f2</th>\n",
       "      <th>995</th>\n",
       "      <td>-0.392264</td>\n",
       "    </tr>\n",
       "    <tr>\n",
       "      <th>996</th>\n",
       "      <td>0.495839</td>\n",
       "    </tr>\n",
       "    <tr>\n",
       "      <th>997</th>\n",
       "      <td>0.949048</td>\n",
       "    </tr>\n",
       "    <tr>\n",
       "      <th>998</th>\n",
       "      <td>0.188960</td>\n",
       "    </tr>\n",
       "    <tr>\n",
       "      <th>999</th>\n",
       "      <td>0.246023</td>\n",
       "    </tr>\n",
       "  </tbody>\n",
       "</table>\n",
       "</div>"
      ],
      "text/plain": [
       "                                  value\n",
       "sample_size method experiment          \n",
       "1000        f2     995        -0.392264\n",
       "                   996         0.495839\n",
       "                   997         0.949048\n",
       "                   998         0.188960\n",
       "                   999         0.246023"
      ]
     },
     "execution_count": 6,
     "metadata": {},
     "output_type": "execute_result"
    }
   ],
   "source": [
    "from tqdm.notebook import trange\n",
    "\n",
    "for size in sample_size:\n",
    "    for experiment in trange(k, desc = 'Size: {:_>4}'.format(size)):\n",
    "        data = data_sampler(size)\n",
    "        result.loc[(size, 'f0', experiment), 'value'] = f0(data)\n",
    "        result.loc[(size, 'f1', experiment), 'value'] = f1(data)\n",
    "        result.loc[(size, 'f2', experiment), 'value'] = f2(data)\n",
    "tail(result)"
   ]
  },
  {
   "cell_type": "markdown",
   "metadata": {},
   "source": [
    "Let us explore the resulting distributions"
   ]
  },
  {
   "cell_type": "code",
   "execution_count": 7,
   "metadata": {},
   "outputs": [
    {
     "name": "stderr",
     "output_type": "stream",
     "text": [
      "/Users/swen/Library/miniforge3/envs/machine-learning/lib/python3.8/site-packages/plotnine/utils.py:371: FutureWarning: The frame.append method is deprecated and will be removed from pandas in a future version. Use pandas.concat instead.\n"
     ]
    },
    {
     "data": {
      "image/png": "[encoded data removed]",
      "text/plain": [
       "<Figure size 640x480 with 12 Axes>"
      ]
     },
     "metadata": {},
     "output_type": "display_data"
    },
    {
     "data": {
      "text/plain": [
       "<ggplot: (381849742)>"
      ]
     },
     "execution_count": 7,
     "metadata": {},
     "output_type": "execute_result"
    }
   ],
   "source": [
    "# Drop values outside [-2, 2] for clarity\n",
    "p = ggplot(result\n",
    "           .loc[[1, 10, 100, 1000]]\n",
    "           .reset_index()\n",
    "           .pipe(lambda df: df.loc[abs(df['value'])<= 2]))\n",
    "p = p + geom_histogram(aes(x='value'), bins=50)\n",
    "p = p + facet_grid(['method', 'sample_size']) \n",
    "p"
   ]
  },
  {
   "cell_type": "markdown",
   "metadata": {},
   "source": [
    "## II. Bias and variance \n",
    "\n",
    "* A point estimator does not have to provide the correct answer.\n",
    "* A point estimator is unbiased if its expected value coincides with the true parameter value.\n",
    "* A statistical variance of the point estimator shows how much a point estimate fluctuates.\n",
    "* A point estimator is reasonable if its variance decreases as $n\\to\\infty$.\n",
    "* A point estimator is asymptotocally consistent if the estimator converges in probabilty to the true value.\n",
    "* A biased estimator can be also asymptotocally consistent and more effective."
   ]
  },
  {
   "cell_type": "code",
   "execution_count": 8,
   "metadata": {},
   "outputs": [
    {
     "data": {
      "text/html": [
       "<div>\n",
       "<style scoped>\n",
       "    .dataframe tbody tr th:only-of-type {\n",
       "        vertical-align: middle;\n",
       "    }\n",
       "\n",
       "    .dataframe tbody tr th {\n",
       "        vertical-align: top;\n",
       "    }\n",
       "\n",
       "    .dataframe thead th {\n",
       "        text-align: right;\n",
       "    }\n",
       "</style>\n",
       "<table border=\"1\" class=\"dataframe\">\n",
       "  <thead>\n",
       "    <tr style=\"text-align: right;\">\n",
       "      <th></th>\n",
       "      <th></th>\n",
       "      <th>mean</th>\n",
       "      <th>std</th>\n",
       "      <th>q05</th>\n",
       "      <th>q50</th>\n",
       "      <th>q95</th>\n",
       "    </tr>\n",
       "    <tr>\n",
       "      <th>method</th>\n",
       "      <th>sample_size</th>\n",
       "      <th></th>\n",
       "      <th></th>\n",
       "      <th></th>\n",
       "      <th></th>\n",
       "      <th></th>\n",
       "    </tr>\n",
       "  </thead>\n",
       "  <tbody>\n",
       "    <tr>\n",
       "      <th rowspan=\"5\" valign=\"top\">f0</th>\n",
       "      <th>1</th>\n",
       "      <td>0.0</td>\n",
       "      <td>0.0</td>\n",
       "      <td>0.0</td>\n",
       "      <td>0.0</td>\n",
       "      <td>0.0</td>\n",
       "    </tr>\n",
       "    <tr>\n",
       "      <th>10</th>\n",
       "      <td>0.0</td>\n",
       "      <td>0.0</td>\n",
       "      <td>0.0</td>\n",
       "      <td>0.0</td>\n",
       "      <td>0.0</td>\n",
       "    </tr>\n",
       "    <tr>\n",
       "      <th>50</th>\n",
       "      <td>0.0</td>\n",
       "      <td>0.0</td>\n",
       "      <td>0.0</td>\n",
       "      <td>0.0</td>\n",
       "      <td>0.0</td>\n",
       "    </tr>\n",
       "    <tr>\n",
       "      <th>100</th>\n",
       "      <td>0.0</td>\n",
       "      <td>0.0</td>\n",
       "      <td>0.0</td>\n",
       "      <td>0.0</td>\n",
       "      <td>0.0</td>\n",
       "    </tr>\n",
       "    <tr>\n",
       "      <th>250</th>\n",
       "      <td>0.0</td>\n",
       "      <td>0.0</td>\n",
       "      <td>0.0</td>\n",
       "      <td>0.0</td>\n",
       "      <td>0.0</td>\n",
       "    </tr>\n",
       "  </tbody>\n",
       "</table>\n",
       "</div>"
      ],
      "text/plain": [
       "                    mean  std  q05  q50  q95\n",
       "method sample_size                          \n",
       "f0     1             0.0  0.0  0.0  0.0  0.0\n",
       "       10            0.0  0.0  0.0  0.0  0.0\n",
       "       50            0.0  0.0  0.0  0.0  0.0\n",
       "       100           0.0  0.0  0.0  0.0  0.0\n",
       "       250           0.0  0.0  0.0  0.0  0.0"
      ]
     },
     "execution_count": 8,
     "metadata": {},
     "output_type": "execute_result"
    }
   ],
   "source": [
    "sdf = (result\n",
    "       .groupby(['method', 'sample_size'])\n",
    "       .aggregate(\n",
    "           mean = ('value', np.mean), \n",
    "           std  = ('value', np.std),\n",
    "           q05  = ('value', lambda x: np.quantile(x, q=0.05)),\n",
    "           q50  = ('value', lambda x: np.quantile(x, q=0.50)),\n",
    "           q95  = ('value', lambda x: np.quantile(x, q=0.95)))\n",
    "      )\n",
    "head(sdf)"
   ]
  },
  {
   "cell_type": "code",
   "execution_count": 9,
   "metadata": {},
   "outputs": [
    {
     "name": "stderr",
     "output_type": "stream",
     "text": [
      "/Users/swen/Library/miniforge3/envs/machine-learning/lib/python3.8/site-packages/plotnine/utils.py:371: FutureWarning: The frame.append method is deprecated and will be removed from pandas in a future version. Use pandas.concat instead.\n",
      "/Users/swen/Library/miniforge3/envs/machine-learning/lib/python3.8/site-packages/plotnine/utils.py:371: FutureWarning: The frame.append method is deprecated and will be removed from pandas in a future version. Use pandas.concat instead.\n"
     ]
    },
    {
     "data": {
      "image/png": "[encoded data removed]",
      "text/plain": [
       "<Figure size 640x480 with 3 Axes>"
      ]
     },
     "metadata": {},
     "output_type": "display_data"
    },
    {
     "data": {
      "text/plain": [
       "<ggplot: (366668665)>"
      ]
     },
     "execution_count": 9,
     "metadata": {},
     "output_type": "execute_result"
    }
   ],
   "source": [
    "p = ggplot(sdf.reset_index())\n",
    "p = p + geom_line(aes(x = 'sample_size', y = 'q50'))\n",
    "p = p + geom_ribbon(aes(x = 'sample_size', ymin = 'q05', ymax = 'q95'), fill='grey', alpha=0.6)\n",
    "p = p + facet_wrap('method')\n",
    "p + scale_y_continuous(name = '90% confidence interval')"
   ]
  },
  {
   "cell_type": "markdown",
   "metadata": {},
   "source": [
    "## III. Moment matching and confidence intervals\n",
    "\n",
    "* Reasonable point estimators have a distribution that is close to a normal distribution.\n",
    "* Normal distribution is fixed by mean and variance.\n",
    "* If we can estimate mean and variance of the point estimator we can fix corresponding normal approximation. \n",
    "* It is straightforward to find confidence intervals (typical regions) for a normal distribution. "
   ]
  },
  {
   "cell_type": "markdown",
   "metadata": {},
   "source": [
    "### Mean and variance of  the second point estimator\n",
    "\n",
    "The second point estimator in our examples is actually a reasonable estimator and thus we can define normal appoximation."
   ]
  },
  {
   "cell_type": "code",
   "execution_count": 10,
   "metadata": {},
   "outputs": [
    {
     "data": {
      "text/html": [
       "<div>\n",
       "<style scoped>\n",
       "    .dataframe tbody tr th:only-of-type {\n",
       "        vertical-align: middle;\n",
       "    }\n",
       "\n",
       "    .dataframe tbody tr th {\n",
       "        vertical-align: top;\n",
       "    }\n",
       "\n",
       "    .dataframe thead th {\n",
       "        text-align: right;\n",
       "    }\n",
       "</style>\n",
       "<table border=\"1\" class=\"dataframe\">\n",
       "  <thead>\n",
       "    <tr style=\"text-align: right;\">\n",
       "      <th></th>\n",
       "      <th>sample_size</th>\n",
       "      <th>value</th>\n",
       "    </tr>\n",
       "    <tr>\n",
       "      <th>experiment</th>\n",
       "      <th></th>\n",
       "      <th></th>\n",
       "    </tr>\n",
       "  </thead>\n",
       "  <tbody>\n",
       "    <tr>\n",
       "      <th>0</th>\n",
       "      <td>1</td>\n",
       "      <td>0.219700</td>\n",
       "    </tr>\n",
       "    <tr>\n",
       "      <th>1</th>\n",
       "      <td>1</td>\n",
       "      <td>-0.698706</td>\n",
       "    </tr>\n",
       "    <tr>\n",
       "      <th>2</th>\n",
       "      <td>1</td>\n",
       "      <td>1.284191</td>\n",
       "    </tr>\n",
       "    <tr>\n",
       "      <th>3</th>\n",
       "      <td>1</td>\n",
       "      <td>1.817650</td>\n",
       "    </tr>\n",
       "    <tr>\n",
       "      <th>4</th>\n",
       "      <td>1</td>\n",
       "      <td>0.216257</td>\n",
       "    </tr>\n",
       "  </tbody>\n",
       "</table>\n",
       "</div>"
      ],
      "text/plain": [
       "            sample_size     value\n",
       "experiment                       \n",
       "0                     1  0.219700\n",
       "1                     1 -0.698706\n",
       "2                     1  1.284191\n",
       "3                     1  1.817650\n",
       "4                     1  0.216257"
      ]
     },
     "metadata": {},
     "output_type": "display_data"
    },
    {
     "data": {
      "text/html": [
       "<div>\n",
       "<style scoped>\n",
       "    .dataframe tbody tr th:only-of-type {\n",
       "        vertical-align: middle;\n",
       "    }\n",
       "\n",
       "    .dataframe tbody tr th {\n",
       "        vertical-align: top;\n",
       "    }\n",
       "\n",
       "    .dataframe thead th {\n",
       "        text-align: right;\n",
       "    }\n",
       "</style>\n",
       "<table border=\"1\" class=\"dataframe\">\n",
       "  <thead>\n",
       "    <tr style=\"text-align: right;\">\n",
       "      <th></th>\n",
       "      <th>mean</th>\n",
       "      <th>std</th>\n",
       "    </tr>\n",
       "    <tr>\n",
       "      <th>sample_size</th>\n",
       "      <th></th>\n",
       "      <th></th>\n",
       "    </tr>\n",
       "  </thead>\n",
       "  <tbody>\n",
       "    <tr>\n",
       "      <th>1</th>\n",
       "      <td>-0.009932</td>\n",
       "      <td>0.961128</td>\n",
       "    </tr>\n",
       "    <tr>\n",
       "      <th>10</th>\n",
       "      <td>-0.019999</td>\n",
       "      <td>0.314535</td>\n",
       "    </tr>\n",
       "    <tr>\n",
       "      <th>50</th>\n",
       "      <td>0.001320</td>\n",
       "      <td>0.145064</td>\n",
       "    </tr>\n",
       "    <tr>\n",
       "      <th>100</th>\n",
       "      <td>-0.001337</td>\n",
       "      <td>0.103114</td>\n",
       "    </tr>\n",
       "    <tr>\n",
       "      <th>250</th>\n",
       "      <td>-0.001548</td>\n",
       "      <td>0.061768</td>\n",
       "    </tr>\n",
       "    <tr>\n",
       "      <th>500</th>\n",
       "      <td>0.000995</td>\n",
       "      <td>0.044808</td>\n",
       "    </tr>\n",
       "    <tr>\n",
       "      <th>750</th>\n",
       "      <td>0.000891</td>\n",
       "      <td>0.038002</td>\n",
       "    </tr>\n",
       "    <tr>\n",
       "      <th>1000</th>\n",
       "      <td>-0.000626</td>\n",
       "      <td>0.030413</td>\n",
       "    </tr>\n",
       "  </tbody>\n",
       "</table>\n",
       "</div>"
      ],
      "text/plain": [
       "                 mean       std\n",
       "sample_size                    \n",
       "1           -0.009932  0.961128\n",
       "10          -0.019999  0.314535\n",
       "50           0.001320  0.145064\n",
       "100         -0.001337  0.103114\n",
       "250         -0.001548  0.061768\n",
       "500          0.000995  0.044808\n",
       "750          0.000891  0.038002\n",
       "1000        -0.000626  0.030413"
      ]
     },
     "execution_count": 10,
     "metadata": {},
     "output_type": "execute_result"
    }
   ],
   "source": [
    "df = result.reset_index('sample_size').loc['f1']\n",
    "display(head(df))\n",
    "\n",
    "sdf = (df\n",
    "       .groupby('sample_size')\n",
    "       .aggregate(mean = ('value', np.mean), std  = ('value', np.std)))\n",
    "sdf"
   ]
  },
  {
   "cell_type": "markdown",
   "metadata": {},
   "source": [
    "### Theoretical histogram approximation\n",
    "\n",
    "* Let us now use moment matching to compute expected histogram values for various dataset sizes. \n",
    "* We use cumulative probability density function for the normal distribution from `scipy.stats` for that.\n",
    "\n"
   ]
  },
  {
   "cell_type": "code",
   "execution_count": 11,
   "metadata": {},
   "outputs": [
    {
     "data": {
      "text/html": [
       "<div>\n",
       "<style scoped>\n",
       "    .dataframe tbody tr th:only-of-type {\n",
       "        vertical-align: middle;\n",
       "    }\n",
       "\n",
       "    .dataframe tbody tr th {\n",
       "        vertical-align: top;\n",
       "    }\n",
       "\n",
       "    .dataframe thead th {\n",
       "        text-align: right;\n",
       "    }\n",
       "</style>\n",
       "<table border=\"1\" class=\"dataframe\">\n",
       "  <thead>\n",
       "    <tr style=\"text-align: right;\">\n",
       "      <th></th>\n",
       "      <th>x</th>\n",
       "      <th>sample_size</th>\n",
       "      <th>prob</th>\n",
       "    </tr>\n",
       "  </thead>\n",
       "  <tbody>\n",
       "    <tr>\n",
       "      <th>0</th>\n",
       "      <td>-4.00</td>\n",
       "      <td>1</td>\n",
       "      <td>0.000020</td>\n",
       "    </tr>\n",
       "    <tr>\n",
       "      <th>1</th>\n",
       "      <td>-3.75</td>\n",
       "      <td>1</td>\n",
       "      <td>0.000056</td>\n",
       "    </tr>\n",
       "    <tr>\n",
       "      <th>2</th>\n",
       "      <td>-3.50</td>\n",
       "      <td>1</td>\n",
       "      <td>0.000147</td>\n",
       "    </tr>\n",
       "    <tr>\n",
       "      <th>3</th>\n",
       "      <td>-3.25</td>\n",
       "      <td>1</td>\n",
       "      <td>0.000364</td>\n",
       "    </tr>\n",
       "    <tr>\n",
       "      <th>4</th>\n",
       "      <td>-3.00</td>\n",
       "      <td>1</td>\n",
       "      <td>0.000841</td>\n",
       "    </tr>\n",
       "  </tbody>\n",
       "</table>\n",
       "</div>"
      ],
      "text/plain": [
       "      x  sample_size      prob\n",
       "0 -4.00            1  0.000020\n",
       "1 -3.75            1  0.000056\n",
       "2 -3.50            1  0.000147\n",
       "3 -3.25            1  0.000364\n",
       "4 -3.00            1  0.000841"
      ]
     },
     "metadata": {},
     "output_type": "display_data"
    },
    {
     "name": "stderr",
     "output_type": "stream",
     "text": [
      "/Users/swen/Library/miniforge3/envs/machine-learning/lib/python3.8/site-packages/plotnine/utils.py:371: FutureWarning: The frame.append method is deprecated and will be removed from pandas in a future version. Use pandas.concat instead.\n"
     ]
    },
    {
     "data": {
      "image/png": "[encoded data removed]",
      "text/plain": [
       "<Figure size 640x480 with 8 Axes>"
      ]
     },
     "metadata": {},
     "output_type": "display_data"
    },
    {
     "data": {
      "text/plain": [
       "<ggplot: (366674538)>"
      ]
     },
     "execution_count": 11,
     "metadata": {},
     "output_type": "execute_result"
    }
   ],
   "source": [
    "from scipy.stats import norm\n",
    "\n",
    "tdf = pd.concat([DataFrame({'x': [0.25 * x  for x  in range(-16,17)]})\n",
    "                   .assign(sample_size=size)\n",
    "                   .assign(\n",
    "                       prob =  lambda df: \n",
    "                           norm.cdf(df['x'] + 0.125, loc=sdf.loc[size, 'mean'], scale=sdf.loc[size, 'std']) -\n",
    "                           norm.cdf(df['x'] - 0.125, loc=sdf.loc[size, 'mean'], scale=sdf.loc[size, 'std'])\n",
    "                    ) for size in sample_size])\n",
    "\n",
    "display(head(tdf))\n",
    "\n",
    "p = ggplot(tdf)\n",
    "p = p + geom_col(aes(x = 'x', y = 'prob'))\n",
    "p = p + facet_wrap('sample_size')\n",
    "p"
   ]
  },
  {
   "cell_type": "markdown",
   "metadata": {},
   "source": [
    "### Comparison with real values\n",
    "\n",
    "* As there are 1000 samples we must rescale the theoretical probability distribution to match histogram counts. "
   ]
  },
  {
   "cell_type": "code",
   "execution_count": 12,
   "metadata": {},
   "outputs": [
    {
     "name": "stderr",
     "output_type": "stream",
     "text": [
      "/Users/swen/Library/miniforge3/envs/machine-learning/lib/python3.8/site-packages/plotnine/utils.py:371: FutureWarning: The frame.append method is deprecated and will be removed from pandas in a future version. Use pandas.concat instead.\n",
      "/Users/swen/Library/miniforge3/envs/machine-learning/lib/python3.8/site-packages/plotnine/utils.py:371: FutureWarning: The frame.append method is deprecated and will be removed from pandas in a future version. Use pandas.concat instead.\n"
     ]
    },
    {
     "data": {
      "image/png": "[encoded data removed]",
      "text/plain": [
       "<Figure size 640x480 with 8 Axes>"
      ]
     },
     "metadata": {},
     "output_type": "display_data"
    },
    {
     "data": {
      "text/plain": [
       "<ggplot: (368064537)>"
      ]
     },
     "execution_count": 12,
     "metadata": {},
     "output_type": "execute_result"
    }
   ],
   "source": [
    "p = ggplot(tdf.assign(exp_prob = lambda df: df['prob']*1000))\n",
    "p = p + geom_line(aes(x = 'x', y = 'exp_prob'), color='red', size=1, linetype=':')\n",
    "p = p + geom_histogram(aes(x = 'value'), data=df, center=0, binwidth=0.25, alpha=0.5)\n",
    "p = p + facet_wrap('sample_size')\n",
    "p"
   ]
  }
 ],
 "metadata": {
  "kernelspec": {
   "display_name": "Python 3 (ipykernel)",
   "language": "python",
   "name": "python3"
  },
  "language_info": {
   "codemirror_mode": {
    "name": "ipython",
    "version": 3
   },
   "file_extension": ".py",
   "mimetype": "text/x-python",
   "name": "python",
   "nbconvert_exporter": "python",
   "pygments_lexer": "ipython3",
   "version": "3.8.12"
  }
 },
 "nbformat": 4,
 "nbformat_minor": 4
}
