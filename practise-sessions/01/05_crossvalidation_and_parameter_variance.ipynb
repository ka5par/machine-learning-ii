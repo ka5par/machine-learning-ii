{
 "cells": [
  {
   "cell_type": "markdown",
   "metadata": {},
   "source": [
    "# Feature selection with cross-validation\n",
    "\n",
    "In the following, we explain how 10-fold cross-validation can be used to estimate the variance of model parameters:\n",
    "\n",
    "* During the training phase, model parameters are fixed.\n",
    "* Depending on the training data, we can get very different parameter values.\n",
    "* Training set size is appropriate if parameter values are roughly the same for most training sets.\n",
    "* If a model parameter has large variablility over the training sets, it cannot be trusted.\n",
    "\n",
    "Note that for some models, comparing parameters does not make sense as the same prediction function can be achieved with many parameter values.\n",
    "For instance, neural networks have permutation symmetries – predictions do not change if we change the order of neurons in hidden layers.\n",
    "Thus, estimators of parameter variance make sense only for models that have compact representations – two different parameter sets determine two different predictors."
   ]
  },
  {
   "cell_type": "code",
   "execution_count": 1,
   "metadata": {},
   "outputs": [],
   "source": [
    "import numpy as np\n",
    "import pandas as pd\n",
    "import scipy.stats as stats\n",
    "import sklearn\n",
    "\n",
    "from pandas import Series\n",
    "from pandas import DataFrame\n",
    "from typing import Tuple\n",
    "\n",
    "from tqdm import tnrange#, tqdm_notebook\n",
    "from sklearn.linear_model import LogisticRegression\n",
    "from plotnine import *\n",
    "\n",
    "# Local imports\n",
    "from common import *\n",
    "from convenience import *"
   ]
  },
  {
   "cell_type": "markdown",
   "metadata": {},
   "source": [
    "## I. Experiment setup\n",
    "\n",
    "We again consider a relatively simple prediction task with a relatively small feature set and an impossible prediction task with the same feature set for comparison. \n",
    "We use majority voting and logistic regression as example classifiers as in the previous notebook. "
   ]
  },
  {
   "cell_type": "code",
   "execution_count": 2,
   "metadata": {},
   "outputs": [],
   "source": [
    "sampler_0 = lambda n: data_sampler(n, 8, lambda x: logit(x, Series([0, 0])))\n",
    "sampler_1 = lambda n: data_sampler(n, 8, lambda x: logit(x, Series([1, 1])))\n",
    "clf_1 = MajorityVoting()\n",
    "clf_2 = LogisticRegression(solver = 'lbfgs')"
   ]
  },
  {
   "cell_type": "markdown",
   "metadata": {},
   "source": [
    "## II. Modified cross-validation algorithm\n",
    "\n",
    "We will use the standard cross-validation scheme but instead of measuring test and training errors, we collect model parameters:\n",
    "* For majority voting, the parameter set is the prediction table.\n",
    "* For logistic regression, the parameter set comprises model coefficients."
   ]
  },
  {
   "cell_type": "code",
   "execution_count": 3,
   "metadata": {},
   "outputs": [],
   "source": [
    "k = 10\n",
    "m = 10\n",
    "n = k * m\n",
    "data = sampler_1(n)\n",
    "features = list(data.columns.values[:-1])"
   ]
  },
  {
   "cell_type": "markdown",
   "metadata": {},
   "source": [
    "### Function for computing cross-validation splits"
   ]
  },
  {
   "cell_type": "code",
   "execution_count": 4,
   "metadata": {},
   "outputs": [],
   "source": [
    "def crossvalidation_splits(X: DataFrame, y: Series, k: int=10) -> Tuple[List[int], List[int]]:\n",
    "    assert len(X) == len(y), 'Data matrix and the target vector must match'\n",
    "    assert len(X) % k == 0,  'Crossvalidation is unimplemented for cases n != k * m'  \n",
    "    assert X.index.equals(y.index), 'Indices of the data matrix and target vector must match'\n",
    "\n",
    "    n = len(X)\n",
    "    m = int(n/k)\n",
    "    samples = np.random.permutation(X.index)\n",
    "    folds = [samples[start: start + m] for start in range(0, n, m)]\n",
    "    \n",
    "    for i in range(k):\n",
    "        training_index = [x for x in range(k) if x != i]\n",
    "        training_samples = np.concatenate([folds[i] for i in training_index])\n",
    "        test_samples = folds[i]\n",
    "        yield (i, training_samples, test_samples)"
   ]
  },
  {
   "cell_type": "markdown",
   "metadata": {},
   "source": [
    "### Way to extract coefficients of logistic regression model\n",
    "\n",
    "Logistic regression model has coefficients $\\boldsymbol{\\beta}=(\\beta_1,\\ldots,\\beta_m)$ and a free term $\\beta_0$.\n",
    "The following code shows how to extract them. "
   ]
  },
  {
   "cell_type": "code",
   "execution_count": 5,
   "metadata": {},
   "outputs": [
    {
     "name": "stdout",
     "output_type": "stream",
     "text": [
      "[0.65069016]\n",
      "[[ 0.92898946  1.09826959 -0.35826307  0.24598722 -0.42428698 -0.74907811\n",
      "   0.03565789 -1.18016491]]\n"
     ]
    }
   ],
   "source": [
    "clf_2.fit(data[features], data['y'])\n",
    "print(clf_2.intercept_)\n",
    "print(clf_2.coef_)"
   ]
  },
  {
   "cell_type": "code",
   "execution_count": 6,
   "metadata": {},
   "outputs": [],
   "source": [
    "def coeff(clf)->Series:\n",
    "    assert isinstance(clf, sklearn.linear_model._logistic.LogisticRegression), \"Works only for logistic regression\"\n",
    "    return Series(np.concatenate([clf.intercept_, clf.coef_[0]]))"
   ]
  },
  {
   "cell_type": "code",
   "execution_count": 7,
   "metadata": {},
   "outputs": [
    {
     "data": {
      "text/plain": [
       "0    0.650690\n",
       "1    0.928989\n",
       "2    1.098270\n",
       "3   -0.358263\n",
       "4    0.245987\n",
       "5   -0.424287\n",
       "6   -0.749078\n",
       "7    0.035658\n",
       "8   -1.180165\n",
       "dtype: float64"
      ]
     },
     "execution_count": 7,
     "metadata": {},
     "output_type": "execute_result"
    }
   ],
   "source": [
    "coeff(clf_2)"
   ]
  },
  {
   "cell_type": "markdown",
   "metadata": {},
   "source": [
    "## Coefficient variance estimates"
   ]
  },
  {
   "cell_type": "markdown",
   "metadata": {},
   "source": [
    "Now we run cross-validaton to get different $\\boldsymbol{\\beta}$ values."
   ]
  },
  {
   "cell_type": "code",
   "execution_count": 8,
   "metadata": {},
   "outputs": [
    {
     "data": {
      "text/html": [
       "<div>\n",
       "<style scoped>\n",
       "    .dataframe tbody tr th:only-of-type {\n",
       "        vertical-align: middle;\n",
       "    }\n",
       "\n",
       "    .dataframe tbody tr th {\n",
       "        vertical-align: top;\n",
       "    }\n",
       "\n",
       "    .dataframe thead th {\n",
       "        text-align: right;\n",
       "    }\n",
       "</style>\n",
       "<table border=\"1\" class=\"dataframe\">\n",
       "  <thead>\n",
       "    <tr style=\"text-align: right;\">\n",
       "      <th></th>\n",
       "      <th>beta_0</th>\n",
       "      <th>beta_1</th>\n",
       "      <th>beta_2</th>\n",
       "      <th>beta_3</th>\n",
       "      <th>beta_4</th>\n",
       "      <th>beta_5</th>\n",
       "      <th>beta_6</th>\n",
       "      <th>beta_7</th>\n",
       "      <th>beta_8</th>\n",
       "    </tr>\n",
       "  </thead>\n",
       "  <tbody>\n",
       "    <tr>\n",
       "      <th>0</th>\n",
       "      <td>0.501180</td>\n",
       "      <td>1.132738</td>\n",
       "      <td>1.148142</td>\n",
       "      <td>-0.486918</td>\n",
       "      <td>0.393587</td>\n",
       "      <td>-0.265512</td>\n",
       "      <td>-0.670154</td>\n",
       "      <td>-0.052015</td>\n",
       "      <td>-1.074861</td>\n",
       "    </tr>\n",
       "    <tr>\n",
       "      <th>1</th>\n",
       "      <td>0.581628</td>\n",
       "      <td>0.901615</td>\n",
       "      <td>1.273573</td>\n",
       "      <td>-0.414483</td>\n",
       "      <td>0.164354</td>\n",
       "      <td>-0.542942</td>\n",
       "      <td>-0.797289</td>\n",
       "      <td>-0.063200</td>\n",
       "      <td>-0.929926</td>\n",
       "    </tr>\n",
       "    <tr>\n",
       "      <th>2</th>\n",
       "      <td>1.126582</td>\n",
       "      <td>0.870001</td>\n",
       "      <td>0.760095</td>\n",
       "      <td>-0.362354</td>\n",
       "      <td>0.255797</td>\n",
       "      <td>-0.744244</td>\n",
       "      <td>-0.648599</td>\n",
       "      <td>0.091853</td>\n",
       "      <td>-1.342015</td>\n",
       "    </tr>\n",
       "    <tr>\n",
       "      <th>3</th>\n",
       "      <td>0.864607</td>\n",
       "      <td>0.840133</td>\n",
       "      <td>1.115931</td>\n",
       "      <td>-0.357410</td>\n",
       "      <td>0.049298</td>\n",
       "      <td>-0.492026</td>\n",
       "      <td>-0.792863</td>\n",
       "      <td>0.084514</td>\n",
       "      <td>-1.177727</td>\n",
       "    </tr>\n",
       "    <tr>\n",
       "      <th>4</th>\n",
       "      <td>0.728131</td>\n",
       "      <td>0.840858</td>\n",
       "      <td>1.192295</td>\n",
       "      <td>-0.370630</td>\n",
       "      <td>0.096080</td>\n",
       "      <td>-0.197875</td>\n",
       "      <td>-0.876665</td>\n",
       "      <td>-0.010521</td>\n",
       "      <td>-1.262100</td>\n",
       "    </tr>\n",
       "    <tr>\n",
       "      <th>5</th>\n",
       "      <td>0.516611</td>\n",
       "      <td>0.960745</td>\n",
       "      <td>1.031338</td>\n",
       "      <td>-0.278609</td>\n",
       "      <td>0.361042</td>\n",
       "      <td>-0.191895</td>\n",
       "      <td>-0.741565</td>\n",
       "      <td>0.000944</td>\n",
       "      <td>-1.212981</td>\n",
       "    </tr>\n",
       "    <tr>\n",
       "      <th>6</th>\n",
       "      <td>0.657647</td>\n",
       "      <td>0.645876</td>\n",
       "      <td>1.039283</td>\n",
       "      <td>-0.343469</td>\n",
       "      <td>0.165545</td>\n",
       "      <td>-0.378001</td>\n",
       "      <td>-0.723323</td>\n",
       "      <td>0.067819</td>\n",
       "      <td>-1.141309</td>\n",
       "    </tr>\n",
       "    <tr>\n",
       "      <th>7</th>\n",
       "      <td>0.564936</td>\n",
       "      <td>0.745729</td>\n",
       "      <td>1.077599</td>\n",
       "      <td>-0.368466</td>\n",
       "      <td>0.444184</td>\n",
       "      <td>-0.513313</td>\n",
       "      <td>-0.546825</td>\n",
       "      <td>0.109485</td>\n",
       "      <td>-1.318829</td>\n",
       "    </tr>\n",
       "    <tr>\n",
       "      <th>8</th>\n",
       "      <td>0.330995</td>\n",
       "      <td>1.122614</td>\n",
       "      <td>1.052608</td>\n",
       "      <td>-0.240000</td>\n",
       "      <td>0.164770</td>\n",
       "      <td>-0.444843</td>\n",
       "      <td>-0.643014</td>\n",
       "      <td>0.063958</td>\n",
       "      <td>-1.050740</td>\n",
       "    </tr>\n",
       "    <tr>\n",
       "      <th>9</th>\n",
       "      <td>0.548636</td>\n",
       "      <td>0.992976</td>\n",
       "      <td>1.065263</td>\n",
       "      <td>-0.264773</td>\n",
       "      <td>0.293499</td>\n",
       "      <td>-0.420792</td>\n",
       "      <td>-0.814182</td>\n",
       "      <td>0.064838</td>\n",
       "      <td>-1.048839</td>\n",
       "    </tr>\n",
       "  </tbody>\n",
       "</table>\n",
       "</div>"
      ],
      "text/plain": [
       "     beta_0    beta_1    beta_2    beta_3    beta_4    beta_5    beta_6  \\\n",
       "0  0.501180  1.132738  1.148142 -0.486918  0.393587 -0.265512 -0.670154   \n",
       "1  0.581628  0.901615  1.273573 -0.414483  0.164354 -0.542942 -0.797289   \n",
       "2  1.126582  0.870001  0.760095 -0.362354  0.255797 -0.744244 -0.648599   \n",
       "3  0.864607  0.840133  1.115931 -0.357410  0.049298 -0.492026 -0.792863   \n",
       "4  0.728131  0.840858  1.192295 -0.370630  0.096080 -0.197875 -0.876665   \n",
       "5  0.516611  0.960745  1.031338 -0.278609  0.361042 -0.191895 -0.741565   \n",
       "6  0.657647  0.645876  1.039283 -0.343469  0.165545 -0.378001 -0.723323   \n",
       "7  0.564936  0.745729  1.077599 -0.368466  0.444184 -0.513313 -0.546825   \n",
       "8  0.330995  1.122614  1.052608 -0.240000  0.164770 -0.444843 -0.643014   \n",
       "9  0.548636  0.992976  1.065263 -0.264773  0.293499 -0.420792 -0.814182   \n",
       "\n",
       "     beta_7    beta_8  \n",
       "0 -0.052015 -1.074861  \n",
       "1 -0.063200 -0.929926  \n",
       "2  0.091853 -1.342015  \n",
       "3  0.084514 -1.177727  \n",
       "4 -0.010521 -1.262100  \n",
       "5  0.000944 -1.212981  \n",
       "6  0.067819 -1.141309  \n",
       "7  0.109485 -1.318829  \n",
       "8  0.063958 -1.050740  \n",
       "9  0.064838 -1.048839  "
      ]
     },
     "metadata": {},
     "output_type": "display_data"
    }
   ],
   "source": [
    "result = (DataFrame(index =list(range(10)))\n",
    "    .reindex(columns = ['beta_{}'.format(i) for i in range(9)]))\n",
    "\n",
    "for i, training_samples, test_samples in crossvalidation_splits(data, data['y']):\n",
    "    train = data.iloc[training_samples]\n",
    "    clf_2.fit(train[features], train['y'])\n",
    "    result.loc[i, :] = coeff(clf_2).values\n",
    "display(result)"
   ]
  },
  {
   "cell_type": "markdown",
   "metadata": {},
   "source": [
    "### Visualisation\n",
    "\n",
    "Let's melt the data and compute $95\\%$ confidence intervals."
   ]
  },
  {
   "cell_type": "code",
   "execution_count": 9,
   "metadata": {},
   "outputs": [
    {
     "data": {
      "text/html": [
       "<div>\n",
       "<style scoped>\n",
       "    .dataframe tbody tr th:only-of-type {\n",
       "        vertical-align: middle;\n",
       "    }\n",
       "\n",
       "    .dataframe tbody tr th {\n",
       "        vertical-align: top;\n",
       "    }\n",
       "\n",
       "    .dataframe thead th {\n",
       "        text-align: right;\n",
       "    }\n",
       "</style>\n",
       "<table border=\"1\" class=\"dataframe\">\n",
       "  <thead>\n",
       "    <tr style=\"text-align: right;\">\n",
       "      <th></th>\n",
       "      <th>fold</th>\n",
       "      <th>coefficient</th>\n",
       "      <th>value</th>\n",
       "    </tr>\n",
       "  </thead>\n",
       "  <tbody>\n",
       "    <tr>\n",
       "      <th>0</th>\n",
       "      <td>0</td>\n",
       "      <td>beta_0</td>\n",
       "      <td>0.501180</td>\n",
       "    </tr>\n",
       "    <tr>\n",
       "      <th>1</th>\n",
       "      <td>0</td>\n",
       "      <td>beta_1</td>\n",
       "      <td>1.132738</td>\n",
       "    </tr>\n",
       "    <tr>\n",
       "      <th>2</th>\n",
       "      <td>0</td>\n",
       "      <td>beta_2</td>\n",
       "      <td>1.148142</td>\n",
       "    </tr>\n",
       "    <tr>\n",
       "      <th>3</th>\n",
       "      <td>0</td>\n",
       "      <td>beta_3</td>\n",
       "      <td>-0.486918</td>\n",
       "    </tr>\n",
       "    <tr>\n",
       "      <th>4</th>\n",
       "      <td>0</td>\n",
       "      <td>beta_4</td>\n",
       "      <td>0.393587</td>\n",
       "    </tr>\n",
       "  </tbody>\n",
       "</table>\n",
       "</div>"
      ],
      "text/plain": [
       "   fold coefficient     value\n",
       "0     0      beta_0  0.501180\n",
       "1     0      beta_1  1.132738\n",
       "2     0      beta_2  1.148142\n",
       "3     0      beta_3 -0.486918\n",
       "4     0      beta_4  0.393587"
      ]
     },
     "metadata": {},
     "output_type": "display_data"
    },
    {
     "data": {
      "text/html": [
       "<div>\n",
       "<style scoped>\n",
       "    .dataframe tbody tr th:only-of-type {\n",
       "        vertical-align: middle;\n",
       "    }\n",
       "\n",
       "    .dataframe tbody tr th {\n",
       "        vertical-align: top;\n",
       "    }\n",
       "\n",
       "    .dataframe thead th {\n",
       "        text-align: right;\n",
       "    }\n",
       "</style>\n",
       "<table border=\"1\" class=\"dataframe\">\n",
       "  <thead>\n",
       "    <tr style=\"text-align: right;\">\n",
       "      <th></th>\n",
       "      <th>coefficient</th>\n",
       "      <th>mean</th>\n",
       "      <th>std</th>\n",
       "      <th>lower_ci</th>\n",
       "      <th>upper_ci</th>\n",
       "      <th>significant</th>\n",
       "    </tr>\n",
       "  </thead>\n",
       "  <tbody>\n",
       "    <tr>\n",
       "      <th>0</th>\n",
       "      <td>beta_0</td>\n",
       "      <td>0.642095</td>\n",
       "      <td>0.221764</td>\n",
       "      <td>0.431711</td>\n",
       "      <td>0.852479</td>\n",
       "      <td>True</td>\n",
       "    </tr>\n",
       "    <tr>\n",
       "      <th>1</th>\n",
       "      <td>beta_1</td>\n",
       "      <td>0.905329</td>\n",
       "      <td>0.153528</td>\n",
       "      <td>0.759679</td>\n",
       "      <td>1.050978</td>\n",
       "      <td>True</td>\n",
       "    </tr>\n",
       "    <tr>\n",
       "      <th>2</th>\n",
       "      <td>beta_2</td>\n",
       "      <td>1.075613</td>\n",
       "      <td>0.134644</td>\n",
       "      <td>0.947878</td>\n",
       "      <td>1.203347</td>\n",
       "      <td>True</td>\n",
       "    </tr>\n",
       "    <tr>\n",
       "      <th>3</th>\n",
       "      <td>beta_3</td>\n",
       "      <td>-0.348711</td>\n",
       "      <td>0.073307</td>\n",
       "      <td>-0.418256</td>\n",
       "      <td>-0.279166</td>\n",
       "      <td>True</td>\n",
       "    </tr>\n",
       "    <tr>\n",
       "      <th>4</th>\n",
       "      <td>beta_4</td>\n",
       "      <td>0.238816</td>\n",
       "      <td>0.132092</td>\n",
       "      <td>0.113502</td>\n",
       "      <td>0.364129</td>\n",
       "      <td>True</td>\n",
       "    </tr>\n",
       "    <tr>\n",
       "      <th>5</th>\n",
       "      <td>beta_5</td>\n",
       "      <td>-0.419144</td>\n",
       "      <td>0.170541</td>\n",
       "      <td>-0.580933</td>\n",
       "      <td>-0.257355</td>\n",
       "      <td>True</td>\n",
       "    </tr>\n",
       "    <tr>\n",
       "      <th>6</th>\n",
       "      <td>beta_6</td>\n",
       "      <td>-0.725448</td>\n",
       "      <td>0.099093</td>\n",
       "      <td>-0.819456</td>\n",
       "      <td>-0.631440</td>\n",
       "      <td>True</td>\n",
       "    </tr>\n",
       "    <tr>\n",
       "      <th>7</th>\n",
       "      <td>beta_7</td>\n",
       "      <td>0.035767</td>\n",
       "      <td>0.061895</td>\n",
       "      <td>-0.022951</td>\n",
       "      <td>0.094486</td>\n",
       "      <td>False</td>\n",
       "    </tr>\n",
       "    <tr>\n",
       "      <th>8</th>\n",
       "      <td>beta_8</td>\n",
       "      <td>-1.155933</td>\n",
       "      <td>0.131893</td>\n",
       "      <td>-1.281058</td>\n",
       "      <td>-1.030808</td>\n",
       "      <td>True</td>\n",
       "    </tr>\n",
       "  </tbody>\n",
       "</table>\n",
       "</div>"
      ],
      "text/plain": [
       "  coefficient      mean       std  lower_ci  upper_ci  significant\n",
       "0      beta_0  0.642095  0.221764  0.431711  0.852479         True\n",
       "1      beta_1  0.905329  0.153528  0.759679  1.050978         True\n",
       "2      beta_2  1.075613  0.134644  0.947878  1.203347         True\n",
       "3      beta_3 -0.348711  0.073307 -0.418256 -0.279166         True\n",
       "4      beta_4  0.238816  0.132092  0.113502  0.364129         True\n",
       "5      beta_5 -0.419144  0.170541 -0.580933 -0.257355         True\n",
       "6      beta_6 -0.725448  0.099093 -0.819456 -0.631440         True\n",
       "7      beta_7  0.035767  0.061895 -0.022951  0.094486        False\n",
       "8      beta_8 -1.155933  0.131893 -1.281058 -1.030808         True"
      ]
     },
     "metadata": {},
     "output_type": "display_data"
    }
   ],
   "source": [
    "df = (DataFrame(result.stack(), columns = ['value'])\n",
    "      .reset_index()\n",
    "      .rename(columns = {'level_0':'fold', 'level_1':'coefficient'}))\n",
    "display(head(df))\n",
    "\n",
    "sdf = (df.groupby(['coefficient'])\n",
    "       .aggregate({'value': ['mean', 'std']})\n",
    "       .pipe(reset_column_index, 0)\n",
    "       .assign(lower_ci = lambda df: df['mean'] - 3 * df['std']/np.sqrt(10))\n",
    "       .assign(upper_ci = lambda df: df['mean'] + 3 * df['std']/np.sqrt(10))\n",
    "       .assign(significant = lambda df: np.sign(df['lower_ci'] * df['upper_ci']) == 1)\n",
    "       .reset_index())\n",
    "display(sdf)"
   ]
  },
  {
   "cell_type": "code",
   "execution_count": 10,
   "metadata": {},
   "outputs": [
    {
     "data": {
      "image/png": "[encoded data removed]",
      "text/plain": [
       "<Figure size 640x480 with 1 Axes>"
      ]
     },
     "metadata": {},
     "output_type": "display_data"
    },
    {
     "data": {
      "text/plain": [
       "<ggplot: (351631065)>"
      ]
     },
     "metadata": {},
     "output_type": "display_data"
    }
   ],
   "source": [
    "p = ggplot(df)\n",
    "p = p + geom_hline(yintercept = 0, color = 'red', linetype ='--')\n",
    "p = p + geom_boxplot(aes(x = 'coefficient', y = 'value'), fill = 'oldlace')\n",
    "p = p + scale_x_discrete(name = '', labels=[r'$\\beta_{}$'.format(i) for i in range(9)])\n",
    "p = p + scale_y_continuous(name = \"\", limits = (-1.5, 1.5))\n",
    "p.save('crossvalidation_parameter_variance_i.pdf', path='results', height=6, width=6, verbose=False)\n",
    "display(p)"
   ]
  },
  {
   "cell_type": "code",
   "execution_count": 11,
   "metadata": {},
   "outputs": [
    {
     "data": {
      "image/png": "[encoded data removed]",
      "text/plain": [
       "<Figure size 640x480 with 1 Axes>"
      ]
     },
     "metadata": {},
     "output_type": "display_data"
    },
    {
     "data": {
      "text/plain": [
       "<ggplot: (352059344)>"
      ]
     },
     "metadata": {},
     "output_type": "display_data"
    }
   ],
   "source": [
    "p = ggplot(sdf)\n",
    "p = p + geom_hline(yintercept = 0, color = 'red', linetype ='--', size = 1)\n",
    "p = p + geom_pointrange(aes(x = 'coefficient', ymin = 'lower_ci', y='mean', ymax = 'upper_ci', color = 'significant'), size=0.75)\n",
    "p = p + scale_x_discrete(name = '', labels=[r'$\\beta_{}$'.format(i) for i in range(9)])\n",
    "p = p + scale_y_continuous(name = \"\", limits = (-1.5, 1.5))\n",
    "p = p + scale_color_discrete(guide = False)\n",
    "p.save('crossvalidation_parameter_variance_ii.pdf', path='results', height=6, width=6, verbose=False)\n",
    "display(p)"
   ]
  },
  {
   "cell_type": "markdown",
   "metadata": {},
   "source": [
    "# Homeworks"
   ]
  },
  {
   "cell_type": "markdown",
   "metadata": {},
   "source": [
    "## 5.1 Analysis of prediction stability (<font color='red'>3p</font>)\n",
    "\n",
    "Cross-validation can be used to study the stability of a learning algorithm:\n",
    "\n",
    "* You can study how much the coefficients of your model vary.\n",
    "* You can study how fragile is your learning algorithm to noise.\n",
    "\n",
    "Let's explore these concepts by studying the stability of polynomial regression models $y\\sim x^2+x+1$ and $y\\sim x^8 + x^7 + \\cdots + x + 1$.\n",
    "\n",
    "* Stability of coefficients (<font color='red'>1p</font>) \n",
    "  * Fit these models on cross-validation folds and observe regression coefficients by drawing corresponding boxplots. \n",
    "  * Study the mean and variance of individual model coefficients. Declare that a coefficient is insignificant and set it to zero when its mean is not more than 3 standard deviations away from zero. \n",
    "  * Interpret the results. Are both models similar?\n",
    "  \n",
    "  \n",
    "* Stability of predictions (<font color='red'>1p</font>) \n",
    "  * Fit these models on cross-validation folds.\n",
    "  * For each learned model, compute a prediction line in the interval $[-2,1]$.\n",
    "  * Draw a faceted plot with facets for models $y\\sim x^2+x+1$ and $y\\sim x^8 + x^7 + \\cdots + x + 1$.\n",
    "  * On each subplot, plot individual prediction lines. Use `alpha=0.5` to make lines semi-transparent.\n",
    "  * Draw also the average prediction line in red on the plot.\n",
    "\n",
    "\n",
    "* Stability against noise (<font color='red'>1p</font>) \n",
    "  * To study robustness against noise, you can add additional Gaussian noise to $y_i$ values of training samples  and later estimate how much the mean squared error increased as a consequence. \n",
    "  * The latter should estimate how sensitive is your method to random noise.\n",
    "  * Experiment with different scale values $\\sigma=0.001, 0.01, 0.1, 1$, and visualise the results.\n",
    " \n",
    "  \n",
    "\n",
    "### Remarks\n",
    "* Use the sampler `regr_sampler` as the data source. \n",
    "* Use [sklearn.linear_model.LinearRegression](\n",
    "https://scikit-learn.org/stable/modules/generated/sklearn.linear_model.LinearRegression.html) together with \n",
    "[sklearn.preprocessing.PolynomialFeatures](https://scikit-learn.org/stable/modules/generated/sklearn.preprocessing.PolynomialFeatures.html) to implement polynomial regression:\n",
    "  * First define additional columns $x_2=x^2, \\ldots, x_8=x^8$.\n",
    "  * Then use linear regression to find corresponding coefficients $\\beta_0,\\beta_1,\\ldots, \\beta_8$.\n",
    "* Use [numpy.random.normal](https://docs.scipy.org/doc/numpy/reference/generated/numpy.random.normal.html) to sample the additional Gaussian noise needed in the last part of the exercise."
   ]
  },
  {
   "cell_type": "code",
   "execution_count": null,
   "metadata": {},
   "outputs": [],
   "source": [
    "def regr_sampler(n: int) -> DataFrame:\n",
    "    return (DataFrame(np.random.uniform(low=-2, high=1, size=100), columns=['x']).\n",
    "            assign(y = lambda df: df['x']**2 + df['x'] + np.random.normal(scale=0.3, size=len(df))))     "
   ]
  },
  {
   "cell_type": "code",
   "execution_count": 13,
   "metadata": {},
   "outputs": [
    {
     "data": {
      "text/html": [
       "<div>\n",
       "<style scoped>\n",
       "    .dataframe tbody tr th:only-of-type {\n",
       "        vertical-align: middle;\n",
       "    }\n",
       "\n",
       "    .dataframe tbody tr th {\n",
       "        vertical-align: top;\n",
       "    }\n",
       "\n",
       "    .dataframe thead th {\n",
       "        text-align: right;\n",
       "    }\n",
       "</style>\n",
       "<table border=\"1\" class=\"dataframe\">\n",
       "  <thead>\n",
       "    <tr style=\"text-align: right;\">\n",
       "      <th></th>\n",
       "      <th>x</th>\n",
       "      <th>y</th>\n",
       "    </tr>\n",
       "  </thead>\n",
       "  <tbody>\n",
       "    <tr>\n",
       "      <th>0</th>\n",
       "      <td>0.390850</td>\n",
       "      <td>0.584429</td>\n",
       "    </tr>\n",
       "    <tr>\n",
       "      <th>1</th>\n",
       "      <td>0.967128</td>\n",
       "      <td>1.485084</td>\n",
       "    </tr>\n",
       "    <tr>\n",
       "      <th>2</th>\n",
       "      <td>0.027058</td>\n",
       "      <td>0.399149</td>\n",
       "    </tr>\n",
       "    <tr>\n",
       "      <th>3</th>\n",
       "      <td>0.558338</td>\n",
       "      <td>0.691814</td>\n",
       "    </tr>\n",
       "    <tr>\n",
       "      <th>4</th>\n",
       "      <td>0.782931</td>\n",
       "      <td>1.158167</td>\n",
       "    </tr>\n",
       "    <tr>\n",
       "      <th>5</th>\n",
       "      <td>0.937114</td>\n",
       "      <td>1.397179</td>\n",
       "    </tr>\n",
       "    <tr>\n",
       "      <th>6</th>\n",
       "      <td>0.791583</td>\n",
       "      <td>1.211764</td>\n",
       "    </tr>\n",
       "    <tr>\n",
       "      <th>7</th>\n",
       "      <td>0.519620</td>\n",
       "      <td>0.713566</td>\n",
       "    </tr>\n",
       "    <tr>\n",
       "      <th>8</th>\n",
       "      <td>0.976999</td>\n",
       "      <td>1.520037</td>\n",
       "    </tr>\n",
       "    <tr>\n",
       "      <th>9</th>\n",
       "      <td>0.045622</td>\n",
       "      <td>0.505317</td>\n",
       "    </tr>\n",
       "  </tbody>\n",
       "</table>\n",
       "</div>"
      ],
      "text/plain": [
       "          x         y\n",
       "0  0.390850  0.584429\n",
       "1  0.967128  1.485084\n",
       "2  0.027058  0.399149\n",
       "3  0.558338  0.691814\n",
       "4  0.782931  1.158167\n",
       "5  0.937114  1.397179\n",
       "6  0.791583  1.211764\n",
       "7  0.519620  0.713566\n",
       "8  0.976999  1.520037\n",
       "9  0.045622  0.505317"
      ]
     },
     "metadata": {},
     "output_type": "display_data"
    },
    {
     "data": {
      "image/png": "[encoded data removed]",
      "text/plain": [
       "<Figure size 640x480 with 1 Axes>"
      ]
     },
     "metadata": {},
     "output_type": "display_data"
    },
    {
     "data": {
      "text/plain": [
       "<ggplot: (352036642)>"
      ]
     },
     "execution_count": 13,
     "metadata": {},
     "output_type": "execute_result"
    }
   ],
   "source": [
    "data = regr_sampler(10)\n",
    "display(data)\n",
    "ggplot(data) + geom_point(aes(x = 'x', y='y'))"
   ]
  },
  {
   "cell_type": "code",
   "execution_count": 14,
   "metadata": {},
   "outputs": [],
   "source": [
    "%config IPCompleter.greedy=True"
   ]
  }
 ],
 "metadata": {
  "kernelspec": {
   "display_name": "Python 3 (ipykernel)",
   "language": "python",
   "name": "python3"
  },
  "language_info": {
   "codemirror_mode": {
    "name": "ipython",
    "version": 3
   },
   "file_extension": ".py",
   "mimetype": "text/x-python",
   "name": "python",
   "nbconvert_exporter": "python",
   "pygments_lexer": "ipython3",
   "version": "3.8.12"
  }
 },
 "nbformat": 4,
 "nbformat_minor": 2
}
